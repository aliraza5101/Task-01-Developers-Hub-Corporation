{
  "nbformat": 4,
  "nbformat_minor": 0,
  "metadata": {
    "colab": {
      "private_outputs": true,
      "provenance": []
    },
    "kernelspec": {
      "name": "python3",
      "display_name": "Python 3"
    },
    "language_info": {
      "name": "python"
    }
  },
  "cells": [
    {
      "cell_type": "markdown",
      "source": [
        "# **Financial Time-Series Anomaly Detection**\n",
        "\n",
        "\n",
        "Objective:\n",
        "\n",
        "The goal of this project is to create a tool that detects anomalies in stock price trends. These anomalies could represent unusual market behavior such as market manipulation, extreme fluctuations, or events that may indicate problems in the market (e.g., sudden price jumps or drops without a valid reason)."
      ],
      "metadata": {
        "id": "ToemQ0xLlo5m"
      }
    },
    {
      "cell_type": "markdown",
      "source": [
        "To achieve your goal of detecting anomalies in stock price trends and detecting market manipulations, here’s a step-by-step list that you can follow:\n",
        "\n",
        "# Steps to Achieve Your Goal:\n",
        "\n",
        "# 1. Data Collection:\n",
        "\n",
        "- Download historical stock price data for Bitcoin (or any other stock/cryptocurrency) from Yahoo Finance or another reliable source.\n",
        "\n",
        "- Ensure that the data includes columns like Date, Open, Close, High, Low, and Volume."
      ],
      "metadata": {
        "id": "-lg92NzYmazb"
      }
    },
    {
      "cell_type": "code",
      "source": [
        "!pip install yfinance panda matplotlib"
      ],
      "metadata": {
        "collapsed": true,
        "id": "kT6gkXczl-3S"
      },
      "execution_count": null,
      "outputs": []
    },
    {
      "cell_type": "code",
      "source": [
        "import yfinance as yf\n",
        "import pandas as pd\n",
        "import matplotlib.pyplot as plt"
      ],
      "metadata": {
        "id": "LjXZbEW816HE"
      },
      "execution_count": null,
      "outputs": []
    },
    {
      "cell_type": "markdown",
      "source": [
        "- Download data"
      ],
      "metadata": {
        "id": "rRxE7mVQ2FAF"
      }
    },
    {
      "cell_type": "code",
      "source": [
        "df = yf.download('BTC-USD', period='1y' , interval='1d')\n",
        "df.head()"
      ],
      "metadata": {
        "id": "L-RmRgub2DY3"
      },
      "execution_count": null,
      "outputs": []
    },
    {
      "cell_type": "code",
      "source": [
        "df.reset_index(inplace=True)"
      ],
      "metadata": {
        "id": "UbAKrdil2cKf"
      },
      "execution_count": null,
      "outputs": []
    },
    {
      "cell_type": "code",
      "source": [
        "df['Date'] = pd.to_datetime(df['Date'])"
      ],
      "metadata": {
        "id": "rxEs8BL42k2C"
      },
      "execution_count": null,
      "outputs": []
    },
    {
      "cell_type": "code",
      "source": [
        "df.dropna(inplace=True)"
      ],
      "metadata": {
        "id": "nqdqPQB42qNR"
      },
      "execution_count": null,
      "outputs": []
    },
    {
      "cell_type": "code",
      "source": [
        "print(\"\\nCleaned DataFrame Info:\")\n",
        "print(df.info())"
      ],
      "metadata": {
        "id": "Io3vBc222suB"
      },
      "execution_count": null,
      "outputs": []
    },
    {
      "cell_type": "code",
      "source": [
        "plt.figure(figsize=(12,6))\n",
        "plt.plot(df['Date'],df['Close'],label = 'Bitcoin close price')\n",
        "plt.title('Bitcoin Close Price')\n",
        "plt.xlabel('Date')\n",
        "plt.ylabel('Close Price')\n",
        "plt.legend()\n",
        "plt.grid(True)\n",
        "plt.show()\n"
      ],
      "metadata": {
        "id": "-KxoGl1f2u6q"
      },
      "execution_count": null,
      "outputs": []
    },
    {
      "cell_type": "markdown",
      "source": [
        "# calculate RSI indicator\n",
        "\n",
        "\n"
      ],
      "metadata": {
        "id": "HlgqZ3af3jTl"
      }
    },
    {
      "cell_type": "code",
      "source": [
        "!pip install ta\n",
        "import ta\n"
      ],
      "metadata": {
        "collapsed": true,
        "id": "xMuYC3J43UnC"
      },
      "execution_count": null,
      "outputs": []
    },
    {
      "cell_type": "code",
      "source": [
        "import pandas as pd\n",
        "import numpy as np\n",
        "import matplotlib.pyplot as plt\n",
        "\n",
        "# Assume your DataFrame is named df and has 'Date' and 'Close' columns\n",
        "df['Close'] = df['Close'].astype(float)\n",
        "\n",
        "# Step 1: Calculate the daily price change\n",
        "delta = df['Close'].diff()\n",
        "\n",
        "# Step 2: Separate gains and losses\n",
        "gain = delta.where(delta > 0, 0)\n",
        "loss = -delta.where(delta < 0, 0)\n",
        "\n",
        "# Step 3: Calculate the average gain and average loss (window=14 days)\n",
        "avg_gain = gain.rolling(window=14).mean()\n",
        "avg_loss = loss.rolling(window=14).mean()\n",
        "\n",
        "# Step 4: Calculate RS and then RSI\n",
        "rs = avg_gain / avg_loss\n",
        "rsi = 100 - (100 / (1 + rs))\n",
        "\n",
        "# Add RSI to DataFrame\n",
        "df['RSI_14'] = rsi\n",
        "\n",
        "# Drop missing values caused by rolling\n",
        "df.dropna(inplace=True)\n",
        "\n",
        "# Show final RSI values\n",
        "print(df[['Date', 'Close', 'RSI_14']].tail())\n"
      ],
      "metadata": {
        "id": "hx9NauIZ38Q9"
      },
      "execution_count": null,
      "outputs": []
    },
    {
      "cell_type": "code",
      "source": [
        "plt.figure(figsize=(14, 4))\n",
        "plt.plot(df['Date'], df['RSI_14'], label='RSI (14)', color='purple')\n",
        "plt.axhline(70, color='red', linestyle='--', label='Overbought (70)')\n",
        "plt.axhline(30, color='green', linestyle='--', label='Oversold (30)')\n",
        "plt.title('RSI - Relative Strength Index')\n",
        "plt.xlabel('Date')\n",
        "plt.ylabel('RSI Value')\n",
        "plt.legend()\n",
        "plt.grid(True)\n",
        "plt.tight_layout()\n",
        "plt.show()\n"
      ],
      "metadata": {
        "id": "tyQ6ZBik5wG1"
      },
      "execution_count": null,
      "outputs": []
    },
    {
      "cell_type": "markdown",
      "source": [
        "# Anomaly Detection using Isolation Forest"
      ],
      "metadata": {
        "id": "-NZBQrkN7Tpe"
      }
    },
    {
      "cell_type": "code",
      "source": [
        "# Install required libraries (if not already installed)\n",
        "!pip install yfinance pandas_ta scikit-learn matplotlib --quiet\n"
      ],
      "metadata": {
        "id": "L7rsFq7I59Ld"
      },
      "execution_count": null,
      "outputs": []
    },
    {
      "cell_type": "markdown",
      "source": [],
      "metadata": {
        "id": "8Q3VhCxv7kgp"
      }
    },
    {
      "cell_type": "code",
      "source": [
        "\n",
        "from sklearn.ensemble import IsolationForest"
      ],
      "metadata": {
        "id": "Qlp1Lvvc7gYT"
      },
      "execution_count": null,
      "outputs": []
    },
    {
      "cell_type": "code",
      "source": [
        "\n",
        "\n",
        "# Use 'Close' and 'RSI_14' for anomaly detection\n",
        "X = df[['Close', 'RSI_14']]  # Use RSI_14 instead of RSI\n",
        "\n",
        "# Initialize the Isolation Forest model\n",
        "iso_forest = IsolationForest(n_estimators=100, contamination=0.03, random_state=42)\n",
        "\n",
        "# Fit the model and make predictions (anomalies will be labeled as -1)\n",
        "df['anomaly'] = iso_forest.fit_predict(X)\n",
        "\n",
        "# Mark anomalies as 'True' or 'False' for easy visualization\n",
        "df['is_anomaly'] = df['anomaly'] == -1\n"
      ],
      "metadata": {
        "id": "C0l1Opwh8-ll"
      },
      "execution_count": null,
      "outputs": []
    },
    {
      "cell_type": "code",
      "source": [
        "import matplotlib.pyplot as plt\n",
        "\n",
        "# Plot Close Price with Anomalies\n",
        "plt.figure(figsize=(14, 7))\n",
        "plt.plot(df.index, df['Close'], label='Close Price', color='blue')\n",
        "\n",
        "# Highlight anomalies in red\n",
        "plt.scatter(df.index[df['is_anomaly']], df['Close'][df['is_anomaly']], color='red', label='Anomaly', s=60)\n",
        "\n",
        "# Add labels and title\n",
        "plt.title('Bitcoin Close Price with Anomalies (Using Isolation Forest)', fontsize=14)\n",
        "plt.xlabel('Date')\n",
        "plt.ylabel('Price')\n",
        "plt.legend()\n",
        "plt.grid(True)\n",
        "plt.show()\n"
      ],
      "metadata": {
        "id": "Q_tU5Q3M9X4q"
      },
      "execution_count": null,
      "outputs": []
    },
    {
      "cell_type": "markdown",
      "source": [
        "# Create Modal"
      ],
      "metadata": {
        "id": "NYvvaQtsAlII"
      }
    },
    {
      "cell_type": "markdown",
      "source": [
        "1. Install Required Libraries"
      ],
      "metadata": {
        "id": "ei8Rz55kAyCr"
      }
    },
    {
      "cell_type": "code",
      "source": [
        "!pip install tensorflow\n",
        "!pip install scikit-learn\n"
      ],
      "metadata": {
        "id": "whqi7HMK-D3x"
      },
      "execution_count": null,
      "outputs": []
    },
    {
      "cell_type": "markdown",
      "source": [
        "2. Data Preprocessing\n",
        "\n",
        "You'll need to preprocess the data for LSTM. This includes:\n",
        "1.   Scaling the data (using MinMaxScaler).\n",
        "2.   Creating sequences of data (since LSTM works with sequences).\n",
        "\n"
      ],
      "metadata": {
        "id": "3aYRrqbPA063"
      }
    },
    {
      "cell_type": "code",
      "source": [
        "import numpy as np\n",
        "import pandas as pd\n",
        "from sklearn.preprocessing import MinMaxScaler\n",
        "import matplotlib.pyplot as plt"
      ],
      "metadata": {
        "id": "AaV6gXkaApEm"
      },
      "execution_count": null,
      "outputs": []
    },
    {
      "cell_type": "code",
      "source": [
        "\n",
        "\n",
        "# Assuming 'df' is your DataFrame containing historical stock data\n",
        "\n",
        "# Step 1: Scaling the data (we'll scale the 'Close' price between 0 and 1)\n",
        "scaler = MinMaxScaler(feature_range=(0, 1))\n",
        "scaled_data = scaler.fit_transform(df['Close'].values.reshape(-1, 1))\n",
        "\n",
        "# Step 2: Create sequences for LSTM\n",
        "def create_sequences(data, sequence_length):\n",
        "    x_data, y_data = [], []\n",
        "    for i in range(sequence_length, len(data)):\n",
        "        x_data.append(data[i-sequence_length:i, 0])  # previous `sequence_length` days\n",
        "        y_data.append(data[i, 0])  # next day's closing price\n",
        "    return np.array(x_data), np.array(y_data)\n",
        "\n",
        "sequence_length = 60  # Using past 60 days to predict the next day's price\n",
        "X, y = create_sequences(scaled_data, sequence_length)\n",
        "\n",
        "# Step 3: Reshape the data for LSTM input\n",
        "X = X.reshape(X.shape[0], X.shape[1], 1)  # LSTM expects 3D data (samples, time steps, features)\n",
        "\n",
        "# Split data into training and testing sets\n",
        "train_size = int(len(X) * 0.8)  # 80% for training, 20% for testing\n",
        "X_train, X_test = X[:train_size], X[train_size:]\n",
        "y_train, y_test = y[:train_size], y[train_size:]\n",
        "\n"
      ],
      "metadata": {
        "id": "CwWYUlvyCagl"
      },
      "execution_count": null,
      "outputs": []
    },
    {
      "cell_type": "markdown",
      "source": [
        "# 3. Build the LSTM Model"
      ],
      "metadata": {
        "id": "ehLerk3-EGFF"
      }
    },
    {
      "cell_type": "code",
      "source": [
        "from tensorflow.keras.models import Sequential\n",
        "from tensorflow.keras.layers import LSTM, Dense\n",
        "\n",
        "# Step 4: Build the LSTM model\n",
        "model = Sequential()\n",
        "\n",
        "# First LSTM layer\n",
        "model.add(LSTM(units=50, return_sequences=True, input_shape=(X_train.shape[1], 1)))\n",
        "\n",
        "# Second LSTM layer\n",
        "model.add(LSTM(units=50, return_sequences=False))\n",
        "\n",
        "# Dense output layer\n",
        "model.add(Dense(units=1))  # Output layer with a single value (predicted price)\n",
        "\n",
        "# Compile the model\n",
        "model.compile(optimizer='adam', loss='mean_squared_error')\n",
        "\n",
        "# Step 5: Train the model\n",
        "model.fit(X_train, y_train, epochs=10, batch_size=32)  # Train the model\n"
      ],
      "metadata": {
        "id": "YYnXk2tnCrJo"
      },
      "execution_count": null,
      "outputs": []
    },
    {
      "cell_type": "markdown",
      "source": [
        "\n",
        "Make Predictions"
      ],
      "metadata": {
        "id": "mLL6fBcyEgyD"
      }
    },
    {
      "cell_type": "code",
      "source": [
        "predictions = model.predict(X_test)\n",
        "\n",
        "# Inverse the scaling to get the actual values (scaled to original range)\n",
        "predictions = scaler.inverse_transform(predictions)"
      ],
      "metadata": {
        "id": "Rq4IdtWtEJ5K"
      },
      "execution_count": null,
      "outputs": []
    },
    {
      "cell_type": "code",
      "source": [
        "# Step 7: Visualize the results\n",
        "plt.figure(figsize=(14, 7))\n",
        "plt.plot(df['Date'][-len(predictions):], df['Close'][-len(predictions):], label='Actual Price', color='blue')\n",
        "plt.plot(df['Date'][-len(predictions):], predictions, label='Predicted Price', color='red')\n",
        "plt.title('Bitcoin Price Prediction using LSTM')\n",
        "plt.xlabel('Date')\n",
        "plt.ylabel('Price')\n",
        "plt.legend()\n",
        "plt.show()"
      ],
      "metadata": {
        "id": "5_FhFbosEl2B"
      },
      "execution_count": null,
      "outputs": []
    },
    {
      "cell_type": "markdown",
      "source": [
        "Model Evaluation (Optional)"
      ],
      "metadata": {
        "id": "jlzm6dWSE2N-"
      }
    },
    {
      "cell_type": "code",
      "source": [
        "from sklearn.metrics import mean_squared_error\n",
        "import math\n",
        "\n",
        "# Calculate Mean Squared Error\n",
        "mse = mean_squared_error(y_test, predictions)\n",
        "rmse = math.sqrt(mse)\n",
        "\n",
        "print(f'Mean Squared Error: {mse}')\n",
        "print(f'Root Mean Squared Error: {rmse}')\n"
      ],
      "metadata": {
        "id": "ySs4SZs_EqtB"
      },
      "execution_count": null,
      "outputs": []
    },
    {
      "cell_type": "markdown",
      "source": [
        "Making Future Predictions"
      ],
      "metadata": {
        "id": "uT-eATQ4E7LD"
      }
    },
    {
      "cell_type": "code",
      "source": [
        "# For example, predicting the next 30 days\n",
        "future_predictions = model.predict(X_test[-30:])\n",
        "\n",
        "# Inverse scaling the predictions\n",
        "future_predictions = scaler.inverse_transform(future_predictions)\n",
        "\n",
        "# Plot the predictions\n",
        "plt.figure(figsize=(14, 7))\n",
        "plt.plot(df['Date'][-30:], future_predictions, label='Future Predictions', color='green')\n",
        "plt.title('Bitcoin Price Future Prediction (Next 30 Days)')\n",
        "plt.xlabel('Date')\n",
        "plt.ylabel('Price')\n",
        "plt.legend()\n",
        "plt.show()\n"
      ],
      "metadata": {
        "id": "7RpHpS7CE4Nt"
      },
      "execution_count": null,
      "outputs": []
    },
    {
      "cell_type": "code",
      "source": [
        "!pip install joblib\n",
        "import joblib\n",
        "\n",
        "# After training\n",
        "joblib.dump(model, 'isolation_model.pkl')\n",
        "\n"
      ],
      "metadata": {
        "id": "8AaCjO6NE82Y"
      },
      "execution_count": null,
      "outputs": []
    },
    {
      "cell_type": "code",
      "source": [],
      "metadata": {
        "id": "fiWow7NXQOB6"
      },
      "execution_count": null,
      "outputs": []
    }
  ]
}